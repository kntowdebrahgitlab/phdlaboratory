{
 "cells": [
  {
   "cell_type": "code",
   "execution_count": 1,
   "metadata": {},
   "outputs": [
    {
     "name": "stdout",
     "output_type": "stream",
     "text": [
      "Collecting phe\n",
      "  Downloading phe-1.5.0-py2.py3-none-any.whl.metadata (3.8 kB)\n",
      "Downloading phe-1.5.0-py2.py3-none-any.whl (53 kB)\n",
      "Installing collected packages: phe\n",
      "Successfully installed phe-1.5.0\n",
      "Note: you may need to restart the kernel to use updated packages.\n"
     ]
    }
   ],
   "source": [
    "pip install phe"
   ]
  },
  {
   "cell_type": "code",
   "execution_count": 4,
   "metadata": {},
   "outputs": [
    {
     "name": "stdout",
     "output_type": "stream",
     "text": [
      "PHE Results:\n",
      "Original numbers: 5 and 3\n",
      "Encrypted sum: 8\n",
      "Encrypted product with scalar 2: 10\n"
     ]
    }
   ],
   "source": [
    "from phe import paillier\n",
    "\n",
    "def phe_example():\n",
    "    #Generate public and private keys\n",
    "    public_key, private_key = paillier.generate_paillier_keypair()\n",
    "    \n",
    "    #Encrypt two numbers\n",
    "    a, b = 5, 3\n",
    "    encrypted_a = public_key.encrypt(a)\n",
    "    encrypted_b = public_key.encrypt(b)\n",
    "    \n",
    "    #Perform homomorphic addition\n",
    "    encrypted_sum = encrypted_a + encrypted_b\n",
    "    decrypted_sum = private_key.decrypt(encrypted_sum)\n",
    "    \n",
    "    #Perform homomorphic multiplication by a scalar\n",
    "    scalar = 2\n",
    "    encrypted_product = encrypted_a * scalar \n",
    "    decrypted_product = private_key.decrypt(encrypted_product)\n",
    "    \n",
    "    print(\"PHE Results:\")\n",
    "    print(f'Original numbers: {a} and {b}')\n",
    "    print(f'Encrypted sum: {decrypted_sum}')\n",
    "    print(f'Encrypted product with scalar {scalar}: {decrypted_product}')\n",
    "    \n",
    "    \n",
    "\n",
    "phe_example()\n",
    "    "
   ]
  },
  {
   "cell_type": "code",
   "execution_count": 1,
   "metadata": {},
   "outputs": [],
   "source": [
    "from concrete import fhe"
   ]
  },
  {
   "cell_type": "code",
   "execution_count": 7,
   "metadata": {},
   "outputs": [
    {
     "name": "stdout",
     "output_type": "stream",
     "text": [
      "\n",
      "FHE Results:\n",
      "Original numbers: 5 and 3\n",
      "Encrypted sum and product: (8, 15)\n"
     ]
    }
   ],
   "source": [
    "def fhe_example():\n",
    "    #Define a function to be executed homomorphically\n",
    "    \n",
    "    @fhe.compiler({\"x\":\"encrypted\", \"y\":\"encrypted\"})\n",
    "    def add_and_multiply(x,y):\n",
    "        return x+y, x*y\n",
    "    \n",
    "    inputset = [(2, 3), (0,0), (1,6), (7,7), (7,1), (3,2), (6,1), (1,7), (4, 5), (5,4)]\n",
    "    \n",
    "    #compile the function\n",
    "    \n",
    "    circuit = add_and_multiply.compile(inputset)\n",
    "    circuit.keygen()\n",
    "    \n",
    "    # example values\n",
    "    a, b = 5, 3\n",
    "    \n",
    "    #perform homomorphic computation \n",
    "    result = circuit.encrypt_run_decrypt(a, b)\n",
    "    \n",
    "    print('\\nFHE Results:')\n",
    "    print(f'Original numbers: {a} and {b}')\n",
    "    print(f'Encrypted sum and product: {result}')\n",
    "    \n",
    "    \n",
    "fhe_example()\n",
    "    "
   ]
  }
 ],
 "metadata": {
  "kernelspec": {
   "display_name": ".venv",
   "language": "python",
   "name": "python3"
  },
  "language_info": {
   "codemirror_mode": {
    "name": "ipython",
    "version": 3
   },
   "file_extension": ".py",
   "mimetype": "text/x-python",
   "name": "python",
   "nbconvert_exporter": "python",
   "pygments_lexer": "ipython3",
   "version": "3.12.3"
  }
 },
 "nbformat": 4,
 "nbformat_minor": 2
}
